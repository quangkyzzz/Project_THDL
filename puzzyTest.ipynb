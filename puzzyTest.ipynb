{
 "cells": [
  {
   "cell_type": "code",
   "execution_count": null,
   "metadata": {},
   "outputs": [],
   "source": [
    "import numpy as np\n",
    "import pandas as pd\n",
    "from pathlib import Path\n",
    "from fuzzywuzzy import fuzz\n",
    "from fuzzywuzzy import process"
   ]
  },
  {
   "cell_type": "code",
   "execution_count": null,
   "metadata": {},
   "outputs": [],
   "source": [
    "data_dir = Path('C:/Users/user/Downloads/Project_THDL/Beer data')"
   ]
  },
  {
   "cell_type": "code",
   "execution_count": null,
   "metadata": {},
   "outputs": [],
   "source": [
    "df_reviews = pd.read_csv(data_dir / 'beer_reviews/beer_reviews.csv')\n",
    "df_reviews.info"
   ]
  },
  {
   "cell_type": "code",
   "execution_count": null,
   "metadata": {},
   "outputs": [],
   "source": [
    "df_reviews.head(10)"
   ]
  },
  {
   "cell_type": "code",
   "execution_count": null,
   "metadata": {},
   "outputs": [],
   "source": [
    "df_scores = df_reviews.drop(['brewery_id', \n",
    "                 'review_time', \n",
    "                 'review_profilename', \n",
    "                 'beer_style', \n",
    "                 'beer_beerid', \n",
    "                 'beer_abv'],axis=1).groupby(by=['brewery_name', \n",
    "                                                 'beer_name'], as_index=False).mean()\n",
    "\n",
    "df_scores_count = df_reviews.drop(['brewery_id', \n",
    "                 'review_time', \n",
    "                 'review_profilename', \n",
    "                 'beer_style', \n",
    "                 'beer_beerid', \n",
    "                 'beer_abv'],axis=1).groupby(by=['brewery_name', \n",
    "                                                 'beer_name'], as_index=False).count()\n",
    "\n",
    "df_scores.head(10)\n"
   ]
  },
  {
   "cell_type": "code",
   "execution_count": null,
   "metadata": {},
   "outputs": [],
   "source": [
    "df_scores_count = df_scores_count['review_overall']\n",
    "\n",
    "df_scores['number_of_reviews'] = df_scores_count\n",
    "df_scores.head(10)"
   ]
  },
  {
   "cell_type": "code",
   "execution_count": null,
   "metadata": {},
   "outputs": [],
   "source": [
    "df_profile = pd.read_csv(data_dir / 'beer_data_set/beer_data_set.csv')\n",
    "df_profile.info()"
   ]
  },
  {
   "cell_type": "code",
   "execution_count": null,
   "metadata": {},
   "outputs": [],
   "source": [
    "df_profile[df_profile['Name'].isnull()]"
   ]
  },
  {
   "cell_type": "code",
   "execution_count": null,
   "metadata": {},
   "outputs": [],
   "source": [
    "df_profile.loc[[1803, 2150],'Name'] = df_profile.loc[[1803, 2150],'Brewery']"
   ]
  },
  {
   "cell_type": "code",
   "execution_count": null,
   "metadata": {},
   "outputs": [],
   "source": [
    "df_profile['brewery_review_exists'] = np.where(df_profile['Brewery'].isin(list(df_scores['brewery_name'].unique())), 1, 0)\n",
    "\n",
    "slice_ = 'brewery_review_exists'\n",
    "\n",
    "def highlight_indicator(val):\n",
    "    pink = 'background-color: pink' if val < 1 else ''\n",
    "    return pink\n",
    "\n",
    "df_profile.head(10).style.set_properties(**{'background-color': '#ffffb3'}, subset=slice_)\\\n",
    "                         .applymap(highlight_indicator, subset=[slice_])"
   ]
  },
  {
   "cell_type": "code",
   "execution_count": null,
   "metadata": {},
   "outputs": [],
   "source": [
    "brewery_no_scores = pd.DataFrame(df_profile[df_profile['brewery_review_exists']==0]['Brewery'].unique()).set_axis(['Brewery'], axis=1)\n",
    "brewery_no_scores"
   ]
  },
  {
   "cell_type": "code",
   "execution_count": null,
   "metadata": {},
   "outputs": [],
   "source": [
    "def fuzzy_merge(df_1, df_2, key1, key2, threshold=90, limit=1):\n",
    "    \"\"\"\n",
    "    :param df_1: the left table to join\n",
    "    :param df_2: the right table to join\n",
    "    :param key1: key column of the left table\n",
    "    :param key2: key column of the right table\n",
    "    :param threshold: how close the matches should be to return a match, based on Levenshtein distance\n",
    "    :param limit: the amount of matches that will get returned, these are sorted high to low\n",
    "    :return: dataframe with boths keys and matches\n",
    "    \"\"\"\n",
    "    s = df_2[key2].tolist()\n",
    "    \n",
    "    m = df_1[key1].apply(lambda x: process.extract(query=x, choices=s, limit=limit))    \n",
    "    df_1['matches'] = m\n",
    "    \n",
    "    m2 = df_1['matches'].apply(lambda x: ', '.join([i[0] for i in x if i[1] >= threshold]))\n",
    "    df_1['matches'] = m2\n",
    "    \n",
    "    return df_1"
   ]
  },
  {
   "cell_type": "code",
   "execution_count": null,
   "metadata": {},
   "outputs": [],
   "source": [
    "# Create new column on `df_scores` indicating whether the brewery name exists on `df_profile`\n",
    "df_scores['brewery_profile_exists'] = np.where(df_scores['brewery_name'].isin(list(df_profile['Brewery'].unique())), 1, 0)\n",
    "\n",
    "# Create new data frame (`brewery_no_profile`) listing breweries on `df_scores` with no exact match on `df_profile`\n",
    "brewery_no_profile = pd.DataFrame(df_scores[df_scores['brewery_profile_exists']==0]['brewery_name'].unique()).set_axis(['Brewery'], axis=1)"
   ]
  },
  {
   "cell_type": "code",
   "execution_count": null,
   "metadata": {},
   "outputs": [],
   "source": [
    "# # (Uncomment to let pandas display all rows and column content for all data frames)\n",
    "# pd.set_option('display.max_rows', None)\n",
    "# pd.set_option('display.max_colwidth', None)\n",
    "\n",
    "# # (Default setting)\n",
    "# pd.set_option('display.max_rows', 10)\n",
    "# pd.set_option('display.max_colwidth', 50)"
   ]
  },
  {
   "cell_type": "code",
   "execution_count": null,
   "metadata": {},
   "outputs": [],
   "source": [
    "brewery_no_scores.head(5)\n"
   ]
  },
  {
   "cell_type": "code",
   "execution_count": null,
   "metadata": {},
   "outputs": [],
   "source": [
    "brewery_no_profile.head(5)"
   ]
  },
  {
   "cell_type": "code",
   "execution_count": null,
   "metadata": {},
   "outputs": [],
   "source": [
    "# # Get fuzzy matches for 543 breweries\n",
    "# # Warning: Takes a long time to run\n",
    "fuzzy_match_brewery = fuzzy_merge(brewery_no_scores, brewery_no_profile, 'Brewery', 'Brewery', threshold=88, limit=1)\n",
    "fuzzy_match_brewery.to_csv(data_dir/ 'Brewery Fuzzy Match List.csv', index=False)"
   ]
  },
  {
   "cell_type": "code",
   "execution_count": null,
   "metadata": {},
   "outputs": [],
   "source": [
    "#Load table containing saved brewery name matches (\"Brewery Name Fuzzy Match List.csv\")\n",
    "fuzzy_match_brewery = pd.read_csv(data_dir / \"Brewery Fuzzy Match List.csv\")\n",
    "fuzzy_match_brewery"
   ]
  },
  {
   "cell_type": "code",
   "execution_count": null,
   "metadata": {},
   "outputs": [],
   "source": [
    "# Save table as dictionary\n",
    "fuzzy_match_dict = dict(zip(fuzzy_match_brewery['Brewery'], fuzzy_match_brewery['matches']))\n",
    "\n",
    "# Replace relevant brewery names in `df_profile`\n",
    "df_profile['Brewery'] = df_profile['Brewery'].replace(fuzzy_match_dict)"
   ]
  },
  {
   "cell_type": "code",
   "execution_count": null,
   "metadata": {},
   "outputs": [],
   "source": [
    "# Correcting 'brewery_review_exists' indicator column values on `df_profile` after using fuzzy matches\n",
    "df_profile['brewery_review_exists'] = np.where(df_profile['Brewery'].isin(list(df_scores['brewery_name'].unique())), 1, 0)\n",
    "\n",
    "# Correcting 'brewery_profile_exists' indicator column values on `df_scores` after using fuzzy matches\n",
    "df_scores['brewery_profile_exists'] = np.where(df_scores['brewery_name'].isin(list(df_profile['Brewery'].unique())), 1, 0)"
   ]
  },
  {
   "cell_type": "code",
   "execution_count": null,
   "metadata": {},
   "outputs": [],
   "source": [
    "# Remove all brews from breweries that are not listed in either `df_profile` or `df_scores`\n",
    "df_scores.drop(df_scores[df_scores['brewery_profile_exists']==0].index, axis=0, inplace=True)\n",
    "df_profile.drop(df_profile[df_profile['brewery_review_exists']==0].index, axis=0, inplace=True)"
   ]
  },
  {
   "cell_type": "code",
   "execution_count": null,
   "metadata": {},
   "outputs": [],
   "source": [
    "# Create new identifier column in `df_scores` called 'beer_name_full'\n",
    "# Fill column by concatenating `brewery_name` and `beer_name`\n",
    "df_scores['beer_name_full'] = df_scores['brewery_name'] + ' ' + df_scores['beer_name']\n",
    "\n",
    "# Check if all generated brew names in df_scores are unique:\n",
    "df_scores['beer_name_full'].nunique() == len(df_scores.index)"
   ]
  },
  {
   "cell_type": "code",
   "execution_count": null,
   "metadata": {},
   "outputs": [],
   "source": [
    "# Create new identifier column in `df_profile` called 'Beer Name (Full)' \n",
    "# Fill column by concatenating `Brewery` and `Name`\n",
    "df_profile['Beer Name (Full)'] = df_profile['Brewery'] + ' ' + df_profile['Name']\n",
    "\n",
    "# Check if all generated brew names in `df_profile` are unique:\n",
    "df_profile['Beer Name (Full)'].nunique() == len(df_profile.index)"
   ]
  },
  {
   "cell_type": "code",
   "execution_count": null,
   "metadata": {},
   "outputs": [],
   "source": [
    "# Check duplicated brew name\n",
    "df_profile[df_profile['Beer Name (Full)'].duplicated()]"
   ]
  },
  {
   "cell_type": "code",
   "execution_count": null,
   "metadata": {},
   "outputs": [],
   "source": [
    "# Remove duplicate row containing error (missing data)\n",
    "df_profile.drop(4056, inplace=True)\n",
    "# Remove duplicate row containing error (missing data)\n",
    "df_profile.drop(4033, inplace=True)"
   ]
  },
  {
   "cell_type": "code",
   "execution_count": null,
   "metadata": {},
   "outputs": [],
   "source": [
    "# Create new column on `df_profile` indicating whether the complete brew name exists on `df_scores`\n",
    "df_profile['beer_review_exists'] = np.where(df_profile['Beer Name (Full)'].isin(list(df_scores['beer_name_full'])), 1, 0)\n",
    "\n",
    "\n",
    "# Formatting for better display\n",
    "slice_ = 'beer_review_exists'\n",
    "\n",
    "df_profile.head(10).style.set_properties(**{'background-color': '#ffffb3'}, subset=slice_)\\\n",
    "                         .applymap(highlight_indicator, subset=[slice_])"
   ]
  },
  {
   "cell_type": "code",
   "execution_count": null,
   "metadata": {},
   "outputs": [],
   "source": [
    "# Create new data frame (`beer_no_scores`) listing brews on `df_profile` with no exact match on `df_scores`\n",
    "beer_no_scores = pd.DataFrame(df_profile[df_profile['beer_review_exists']==0]['Beer Name (Full)']).set_axis(['Beer Name (Full)'], axis=1)\n",
    "beer_no_scores"
   ]
  },
  {
   "cell_type": "code",
   "execution_count": null,
   "metadata": {},
   "outputs": [],
   "source": [
    "# Create new column on `df_scores` indicating whether the complete brew name exists on `df_profile`\n",
    "df_scores['beer_profile_exists'] = np.where(df_scores['beer_name_full'].isin(list(df_profile['Beer Name (Full)'])), 1, 0)\n",
    "\n",
    "# Create new data frame (`beer_no_profile`) listing brews on `df_scores` with no exact match on `df_profile`\n",
    "beer_no_profile = pd.DataFrame(df_scores[df_scores['beer_profile_exists']==0]['beer_name_full']).set_axis(['beer_name_full'], axis=1)"
   ]
  },
  {
   "cell_type": "code",
   "execution_count": null,
   "metadata": {},
   "outputs": [],
   "source": [
    "# # Get fuzzy matches for 2460 brews\n",
    "# # Warning: Takes a long time to run\n",
    "#fuzzy_match_beer_name = fuzzy_merge(beer_no_scores, beer_no_profile, 'Beer Name (Full)', 'beer_name_full', threshold=87, limit=1)\n",
    "#fuzzy_match_beer_name.to_csv(data_dir/ 'Beer Name Fuzzy Match List (my).csv', index=False)"
   ]
  },
  {
   "cell_type": "code",
   "execution_count": null,
   "metadata": {},
   "outputs": [],
   "source": [
    "fuzzy_match_beer_name = pd.read_csv(data_dir / 'Beer Name Fuzzy Match List (my).csv')\n",
    "fuzzy_match_beer_name"
   ]
  }
 ],
 "metadata": {
  "kernelspec": {
   "display_name": "Python 3",
   "language": "python",
   "name": "python3"
  },
  "language_info": {
   "codemirror_mode": {
    "name": "ipython",
    "version": 3
   },
   "file_extension": ".py",
   "mimetype": "text/x-python",
   "name": "python",
   "nbconvert_exporter": "python",
   "pygments_lexer": "ipython3",
   "version": "3.11.3"
  },
  "orig_nbformat": 4
 },
 "nbformat": 4,
 "nbformat_minor": 2
}
